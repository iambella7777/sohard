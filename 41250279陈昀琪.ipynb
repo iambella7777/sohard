{
  "nbformat": 4,
  "nbformat_minor": 0,
  "metadata": {
    "colab": {
      "provenance": [],
      "include_colab_link": true
    },
    "kernelspec": {
      "name": "python3",
      "display_name": "Python 3"
    },
    "language_info": {
      "name": "python"
    }
  },
  "cells": [
    {
      "cell_type": "markdown",
      "metadata": {
        "id": "view-in-github",
        "colab_type": "text"
      },
      "source": [
        "<a href=\"https://colab.research.google.com/github/iambella7777/sohard/blob/main/41250279%E9%99%88%E6%98%80%E7%90%AA.ipynb\" target=\"_parent\"><img src=\"https://colab.research.google.com/assets/colab-badge.svg\" alt=\"Open In Colab\"/></a>"
      ]
    },
    {
      "cell_type": "markdown",
      "source": [
        "#***↑請記得更改作業檔名↑***"
      ],
      "metadata": {
        "id": "8LyXK2LBf7qt"
      }
    },
    {
      "cell_type": "markdown",
      "source": [
        "# **2024/03/18實習課作業**"
      ],
      "metadata": {
        "id": "W1PUFhb-pw_y"
      }
    },
    {
      "cell_type": "markdown",
      "source": [
        "Q1:請嘗試寫出一個成績計算機，利用所學的input指令，讓使用者自行輸入國文、英文與數學的成績(皆為整數型態)後，計算並輸出他這三科總分。\n",
        "**(變數命名可自行定義)**"
      ],
      "metadata": {
        "id": "Ce6nKFp7nui_"
      }
    },
    {
      "cell_type": "code",
      "source": [
        "#第一題:總分計算機\n",
        "#公式: 成績 = 國文分數 + 英文分數 + 數學分數\n",
        "chi = int(input(\"請輸入國文成績(整數):\"))\n",
        "eng = int(input(\"請輸入英文成績(整數):\"))\n",
        "math = int(input(\"請輸入數學成績(整數):\"))\n",
        "total = chi + eng + math\n",
        "print(\"您的總分為:%3d\" % total)\n",
        "\n"
      ],
      "metadata": {
        "id": "zlAOzhhzmVwq",
        "colab": {
          "base_uri": "https://localhost:8080/"
        },
        "outputId": "96e1f912-6e0b-48e0-cb82-5202e00bd64a"
      },
      "execution_count": null,
      "outputs": [
        {
          "output_type": "stream",
          "name": "stdout",
          "text": [
            "請輸入國文成績(整數):90\n",
            "請輸入英文成績(整數):100\n",
            "請輸入數學成績(整數):80\n",
            "您的總分為:270\n"
          ]
        }
      ]
    },
    {
      "cell_type": "markdown",
      "source": [
        "Q2:蛋薑計程車收費方式為第1公里85元，之後每多1公里需加收30元。請利用所學的input指令，讓使用者自行輸入總公里數(整數型態)後，來計算乘車費用為多少。\n",
        "**(變數命名可自行定義)**"
      ],
      "metadata": {
        "id": "88QRv1gMjbGJ"
      }
    },
    {
      "cell_type": "code",
      "source": [
        "#第二題:計程車費用計算\n",
        "kn = int(input(\"請輸入總公里數(整數):\"))\n",
        "kn2 = kn - 1\n",
        "cost = 95 + kn2 * 30\n",
        "print(\"總車資為: %3d 元\" % cost )"
      ],
      "metadata": {
        "id": "QQMTsmdFjsP0",
        "colab": {
          "base_uri": "https://localhost:8080/"
        },
        "outputId": "a5f1390d-7c03-494c-bb7d-2b16983a92d5"
      },
      "execution_count": null,
      "outputs": [
        {
          "output_type": "stream",
          "name": "stdout",
          "text": [
            "請輸入總公里數(整數):30\n",
            "總車資為: 965 元\n"
          ]
        }
      ]
    },
    {
      "cell_type": "markdown",
      "source": [
        "Q3:請嘗試寫出一個BMI計算機，利用所學的input指令，讓使用者自行輸入身高(cm)與體重(kg)後(皆為浮點數)，計算並輸出他的BMI值至小數後2位。\n",
        "**(變數命名可自行定義)**"
      ],
      "metadata": {
        "id": "fjqmpVGvmfM1"
      }
    },
    {
      "cell_type": "code",
      "source": [
        "#第三題:BMI計算機(1.0)\n",
        "#公式: BMI = 體重(kg) / 身高(m)平方\n",
        "height_cm = float(input(\"請輸入您的身高(cm):\"))\n",
        "weight = float(input(\"請輸入您的體重(kg):\"))\n",
        "height_m = height_cm / 100\n",
        "bmi = weight / (height_m ** 2)\n",
        "print(\"BMI為: %3.2f\" % bmi)"
      ],
      "metadata": {
        "id": "7pAz6z1Om77M",
        "colab": {
          "base_uri": "https://localhost:8080/"
        },
        "outputId": "dcd758a9-1aea-489d-df23-0e3216183a52"
      },
      "execution_count": null,
      "outputs": [
        {
          "output_type": "stream",
          "name": "stdout",
          "text": [
            "請輸入您的身高(cm):177\n",
            "請輸入您的體重(kg):68\n",
            "BMI為: 21.71\n"
          ]
        }
      ]
    },
    {
      "cell_type": "markdown",
      "source": [
        "Q4:請改寫第三題。**(變數命名可自行定義)**\n",
        "\n",
        "a.需利用input.split指令來讓使用者在同一行同時輸入身高(cm)與體重(kg)。\n",
        "\n",
        "b.需利用pow函數來計算身高的平方。"
      ],
      "metadata": {
        "id": "FePI2Nhr1_cC"
      }
    },
    {
      "cell_type": "code",
      "source": [
        "#第四題:BMI計算機(2.0)\n",
        "#公式: BMI = 體重(kg) / 身高(m)平方\n",
        "#需利用：input.split與pow函數\n",
        "import math\n",
        "height_cm , weight = input().split()\n",
        "height_cm = float(height_cm)\n",
        "weight = float(weight)\n",
        "height_m = height_cm / 100\n",
        "bmi = weight / (pow(height_m , 2))\n",
        "print(\"BMI為: %3.2f\" % bmi)"
      ],
      "metadata": {
        "id": "5tcWLib92WGX",
        "colab": {
          "base_uri": "https://localhost:8080/"
        },
        "outputId": "124303ba-1e63-49e5-e239-cddd85cdf0ac"
      },
      "execution_count": null,
      "outputs": [
        {
          "output_type": "stream",
          "name": "stdout",
          "text": [
            "177 68\n",
            "BMI為: 21.71\n"
          ]
        }
      ]
    }
  ]
}