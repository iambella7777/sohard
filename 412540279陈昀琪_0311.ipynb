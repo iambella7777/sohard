{
  "nbformat": 4,
  "nbformat_minor": 0,
  "metadata": {
    "colab": {
      "provenance": [],
      "toc_visible": true,
      "name": "412540279陈昀琪-0311.ipynb"
    },
    "kernelspec": {
      "name": "python3",
      "display_name": "Python 3"
    },
    "language_info": {
      "name": "python"
    }
  },
  "cells": [
    {
      "cell_type": "markdown",
      "source": [
        "# ***↑請記得更改作業檔名↑***"
      ],
      "metadata": {
        "id": "ITqUefYafqKB"
      }
    },
    {
      "cell_type": "markdown",
      "source": [
        "# 新增區段"
      ],
      "metadata": {
        "id": "D6DJZoXGyllY"
      }
    },
    {
      "cell_type": "markdown",
      "source": [
        "# **2024/03/11實習課作業**"
      ],
      "metadata": {
        "id": "Ki_37DgQmaaM"
      }
    },
    {
      "cell_type": "markdown",
      "source": [
        "Q1:請嘗試計算梯形面積，上底為6cm，下底為13cm，高度為7cm，求面積為何？(變數名稱可自行定義)"
      ],
      "metadata": {
        "id": "fjqmpVGvmfM1"
      }
    },
    {
      "cell_type": "code",
      "source": [
        "#第一題\n",
        "a=6\n",
        "b=13\n",
        "c=7\n",
        "area=(a+b)*c/2\n",
        "print(area)\n",
        "\n"
      ],
      "metadata": {
        "id": "7pAz6z1Om77M",
        "colab": {
          "base_uri": "https://localhost:8080/"
        },
        "outputId": "e076da19-5510-45a5-910e-8a35a0350fa8"
      },
      "execution_count": null,
      "outputs": [
        {
          "output_type": "stream",
          "name": "stdout",
          "text": [
            "66.5\n"
          ]
        }
      ]
    },
    {
      "cell_type": "markdown",
      "source": [
        "Q2:請嘗試計算100除以7.5的餘數為何？(變數名稱可自行定義)"
      ],
      "metadata": {
        "id": "Ce6nKFp7nui_"
      }
    },
    {
      "cell_type": "code",
      "source": [
        "from binascii import b2a_base64\n",
        "#第二題\n",
        "a=100\n",
        "b=7.5\n",
        "ans=a%b\n",
        "print(ans)\n"
      ],
      "metadata": {
        "id": "zlAOzhhzmVwq",
        "colab": {
          "base_uri": "https://localhost:8080/"
        },
        "outputId": "81a5d126-03ea-4d14-dbd4-5caeae8f391e"
      },
      "execution_count": null,
      "outputs": [
        {
          "output_type": "stream",
          "name": "stdout",
          "text": [
            "2.5\n"
          ]
        }
      ]
    },
    {
      "cell_type": "markdown",
      "source": [
        "Q3:請設定一個變數 x 之值為 「學號後5碼」，並且利用 \"除法求商\" 與 \"除法求餘數\" 的技能，來計算變數 x 已經經過了多少小時、分鐘、秒。 (請依序分別輸出)"
      ],
      "metadata": {
        "id": "47yISoZYaABO"
      }
    },
    {
      "cell_type": "code",
      "source": [
        "#第三題\n",
        "# x 變數為同學的「學號後5碼」\n",
        "x = 40279 #題目要求宣告x為學號後5碼（助教學號612630029，故後5碼為30029）\n",
        "\n",
        "seconds =60\n",
        "minutes =60\n",
        "\n",
        "hours = x // (seconds * minutes)\n",
        "remain_seconds = x % (seconds * minutes)\n",
        "minutes = remain_seconds // seconds\n",
        "seconds = remain_seconds % seconds\n",
        "\n",
        "print(hours)\n",
        "print(minutes)\n",
        "print(seconds)\n"
      ],
      "metadata": {
        "id": "sLr6uMKFiF79",
        "colab": {
          "base_uri": "https://localhost:8080/"
        },
        "outputId": "48bcb326-a111-4923-e701-3243a996902c"
      },
      "execution_count": null,
      "outputs": [
        {
          "output_type": "stream",
          "name": "stdout",
          "text": [
            "11\n",
            "11\n",
            "19\n"
          ]
        }
      ]
    },
    {
      "cell_type": "code",
      "source": [],
      "metadata": {
        "id": "sRGU0uhBvPNJ"
      },
      "execution_count": null,
      "outputs": []
    },
    {
      "cell_type": "markdown",
      "source": [
        "Q4:請撰寫一個BMI計算器，請先設定身高、體重、BMI結果這三個變數，最後再輸出BMI結果。(變數名稱可自行定義)\n"
      ],
      "metadata": {
        "id": "ZRWGiFKYc_ww"
      }
    },
    {
      "cell_type": "code",
      "source": [
        "#第四題\n",
        "# BMI公式：體重(kg) / ( 身高(m) * 身高(m) )\n",
        "\n",
        "weight=65\n",
        "heihgt_cm=168\n",
        "height_m=heihgt_cm/100\n",
        "bmi=weight/(height_m*height_m)\n",
        "print(bmi)\n"
      ],
      "metadata": {
        "id": "BpljglYIda4K",
        "colab": {
          "base_uri": "https://localhost:8080/"
        },
        "outputId": "a0489fc5-afc8-4fc6-831f-e7e0d04a07e2"
      },
      "execution_count": null,
      "outputs": [
        {
          "output_type": "stream",
          "name": "stdout",
          "text": [
            "23.030045351473927\n"
          ]
        }
      ]
    }
  ]
}